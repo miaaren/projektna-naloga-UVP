{
 "cells": [
  {
   "cell_type": "markdown",
   "metadata": {},
   "source": [
    "# Analiza oglasov za delo"
   ]
  },
  {
   "cell_type": "markdown",
   "metadata": {},
   "source": [
    "Za projektno nalogo bom analizirala oglase za delo, ki so bili objavljeni na spletni strani [e-Študentski Servis](https://www.studentski-servis.com/studenti/prosta-dela)."
   ]
  },
  {
   "cell_type": "code",
   "execution_count": 1,
   "metadata": {},
   "outputs": [],
   "source": [
    "import pandas as pd"
   ]
  },
  {
   "cell_type": "code",
   "execution_count": 2,
   "metadata": {},
   "outputs": [],
   "source": [
    "oglasi = pd.read_csv(r\"C:\\Users\\Mia\\Documents\\FAKS\\projektna-naloga-UVP\\obdelani-podatki\\oglasi.csv\", index_col=\"sifra\")"
   ]
  },
  {
   "cell_type": "code",
   "execution_count": 3,
   "metadata": {},
   "outputs": [
    {
     "data": {
      "text/html": [
       "<div>\n",
       "<style scoped>\n",
       "    .dataframe tbody tr th:only-of-type {\n",
       "        vertical-align: middle;\n",
       "    }\n",
       "\n",
       "    .dataframe tbody tr th {\n",
       "        vertical-align: top;\n",
       "    }\n",
       "\n",
       "    .dataframe thead th {\n",
       "        text-align: right;\n",
       "    }\n",
       "</style>\n",
       "<table border=\"1\" class=\"dataframe\">\n",
       "  <thead>\n",
       "    <tr style=\"text-align: right;\">\n",
       "      <th></th>\n",
       "      <th>vrsta_dela</th>\n",
       "      <th>lokacija</th>\n",
       "      <th>neto_placilo</th>\n",
       "      <th>trajanje</th>\n",
       "      <th>delovnik</th>\n",
       "      <th>prosta_mesta</th>\n",
       "    </tr>\n",
       "    <tr>\n",
       "      <th>sifra</th>\n",
       "      <th></th>\n",
       "      <th></th>\n",
       "      <th></th>\n",
       "      <th></th>\n",
       "      <th></th>\n",
       "      <th></th>\n",
       "    </tr>\n",
       "  </thead>\n",
       "  <tbody>\n",
       "    <tr>\n",
       "      <th>288776</th>\n",
       "      <td>TRENER/KA</td>\n",
       "      <td>HRUŠICA</td>\n",
       "      <td>8.4</td>\n",
       "      <td>DLJE ČASA (OBČASNO)</td>\n",
       "      <td>PO DOGOVORU</td>\n",
       "      <td>NaN</td>\n",
       "    </tr>\n",
       "    <tr>\n",
       "      <th>304105</th>\n",
       "      <td>DELO NA TERENU</td>\n",
       "      <td>POSAVJE</td>\n",
       "      <td>6.0</td>\n",
       "      <td>PO DOGOVORU</td>\n",
       "      <td>PO DOGOVORU</td>\n",
       "      <td>NaN</td>\n",
       "    </tr>\n",
       "    <tr>\n",
       "      <th>309918</th>\n",
       "      <td>DELO NA TERENU</td>\n",
       "      <td>RIBNICA, KOČEVJE</td>\n",
       "      <td>6.0</td>\n",
       "      <td>PO DOGOVORU</td>\n",
       "      <td>PO DOGOVORU</td>\n",
       "      <td>NaN</td>\n",
       "    </tr>\n",
       "    <tr>\n",
       "      <th>309919</th>\n",
       "      <td>DELO NA TERENU</td>\n",
       "      <td>ČRNOMELJ, METLIKA</td>\n",
       "      <td>6.0</td>\n",
       "      <td>PO DOGOVORU</td>\n",
       "      <td>PO DOGOVORU</td>\n",
       "      <td>NaN</td>\n",
       "    </tr>\n",
       "    <tr>\n",
       "      <th>317382</th>\n",
       "      <td>STREŽBA</td>\n",
       "      <td>CERKLJE NA GORENJSKEM</td>\n",
       "      <td>7.0</td>\n",
       "      <td>DLJE ČASA (ZAČ. IN OBČ. DELO)</td>\n",
       "      <td>MED VIKENDI</td>\n",
       "      <td>2.0</td>\n",
       "    </tr>\n",
       "    <tr>\n",
       "      <th>...</th>\n",
       "      <td>...</td>\n",
       "      <td>...</td>\n",
       "      <td>...</td>\n",
       "      <td>...</td>\n",
       "      <td>...</td>\n",
       "      <td>...</td>\n",
       "    </tr>\n",
       "    <tr>\n",
       "      <th>385366</th>\n",
       "      <td>POMOČ V KUHINJI</td>\n",
       "      <td>SORICA</td>\n",
       "      <td>7.0</td>\n",
       "      <td>PO DOGOVORU</td>\n",
       "      <td>PO DOGOVORU</td>\n",
       "      <td>NaN</td>\n",
       "    </tr>\n",
       "    <tr>\n",
       "      <th>385367</th>\n",
       "      <td>KLICNI CENTER</td>\n",
       "      <td>LJUBLJANA  ŠIŠKA</td>\n",
       "      <td>6.7</td>\n",
       "      <td>DLJE ČASA (ZAČ. IN OBČ. DELO)</td>\n",
       "      <td>IZMENSKO</td>\n",
       "      <td>2.0</td>\n",
       "    </tr>\n",
       "    <tr>\n",
       "      <th>385371</th>\n",
       "      <td>POMOČ PRI PRODAJI</td>\n",
       "      <td>LJUBLJANA - BTC</td>\n",
       "      <td>6.0</td>\n",
       "      <td>DLJE ČASA (ZAČ. IN OBČ. DELO)</td>\n",
       "      <td>IZMENSKO</td>\n",
       "      <td>NaN</td>\n",
       "    </tr>\n",
       "    <tr>\n",
       "      <th>385372</th>\n",
       "      <td>DELO V DELAVNICI</td>\n",
       "      <td>JAKOBSKI DOL</td>\n",
       "      <td>7.0</td>\n",
       "      <td>PO DOGOVORU</td>\n",
       "      <td>DOPOLDAN</td>\n",
       "      <td>NaN</td>\n",
       "    </tr>\n",
       "    <tr>\n",
       "      <th>385373</th>\n",
       "      <td>BLAGAJNIK</td>\n",
       "      <td>CELJE</td>\n",
       "      <td>5.7</td>\n",
       "      <td>DLJE ČASA (ZAČ. IN OBČ. DELO)</td>\n",
       "      <td>IZMENSKO</td>\n",
       "      <td>5.0</td>\n",
       "    </tr>\n",
       "  </tbody>\n",
       "</table>\n",
       "<p>3000 rows × 6 columns</p>\n",
       "</div>"
      ],
      "text/plain": [
       "               vrsta_dela               lokacija  neto_placilo  \\\n",
       "sifra                                                            \n",
       "288776          TRENER/KA                HRUŠICA           8.4   \n",
       "304105     DELO NA TERENU                POSAVJE           6.0   \n",
       "309918     DELO NA TERENU       RIBNICA, KOČEVJE           6.0   \n",
       "309919     DELO NA TERENU      ČRNOMELJ, METLIKA           6.0   \n",
       "317382            STREŽBA  CERKLJE NA GORENJSKEM           7.0   \n",
       "...                   ...                    ...           ...   \n",
       "385366    POMOČ V KUHINJI                 SORICA           7.0   \n",
       "385367      KLICNI CENTER       LJUBLJANA  ŠIŠKA           6.7   \n",
       "385371  POMOČ PRI PRODAJI        LJUBLJANA - BTC           6.0   \n",
       "385372   DELO V DELAVNICI           JAKOBSKI DOL           7.0   \n",
       "385373          BLAGAJNIK                  CELJE           5.7   \n",
       "\n",
       "                             trajanje     delovnik  prosta_mesta  \n",
       "sifra                                                             \n",
       "288776            DLJE ČASA (OBČASNO)  PO DOGOVORU           NaN  \n",
       "304105                    PO DOGOVORU  PO DOGOVORU           NaN  \n",
       "309918                    PO DOGOVORU  PO DOGOVORU           NaN  \n",
       "309919                    PO DOGOVORU  PO DOGOVORU           NaN  \n",
       "317382  DLJE ČASA (ZAČ. IN OBČ. DELO)  MED VIKENDI           2.0  \n",
       "...                               ...          ...           ...  \n",
       "385366                    PO DOGOVORU  PO DOGOVORU           NaN  \n",
       "385367  DLJE ČASA (ZAČ. IN OBČ. DELO)     IZMENSKO           2.0  \n",
       "385371  DLJE ČASA (ZAČ. IN OBČ. DELO)     IZMENSKO           NaN  \n",
       "385372                    PO DOGOVORU     DOPOLDAN           NaN  \n",
       "385373  DLJE ČASA (ZAČ. IN OBČ. DELO)     IZMENSKO           5.0  \n",
       "\n",
       "[3000 rows x 6 columns]"
      ]
     },
     "execution_count": 3,
     "metadata": {},
     "output_type": "execute_result"
    }
   ],
   "source": [
    "oglasi"
   ]
  },
  {
   "cell_type": "markdown",
   "metadata": {},
   "source": [
    "Oglasi so razvrščeni kronološko, kot so jih objavljali na spletno stran. Poglejmo si razvrstitev po padajoči urni postavki."
   ]
  },
  {
   "cell_type": "code",
   "execution_count": 4,
   "metadata": {},
   "outputs": [],
   "source": [
    "padajoce_placilo = oglasi.sort_values(\"neto_placilo\", ascending=False)"
   ]
  },
  {
   "cell_type": "code",
   "execution_count": 5,
   "metadata": {},
   "outputs": [
    {
     "data": {
      "text/html": [
       "<div>\n",
       "<style scoped>\n",
       "    .dataframe tbody tr th:only-of-type {\n",
       "        vertical-align: middle;\n",
       "    }\n",
       "\n",
       "    .dataframe tbody tr th {\n",
       "        vertical-align: top;\n",
       "    }\n",
       "\n",
       "    .dataframe thead th {\n",
       "        text-align: right;\n",
       "    }\n",
       "</style>\n",
       "<table border=\"1\" class=\"dataframe\">\n",
       "  <thead>\n",
       "    <tr style=\"text-align: right;\">\n",
       "      <th></th>\n",
       "      <th>vrsta_dela</th>\n",
       "      <th>lokacija</th>\n",
       "      <th>neto_placilo</th>\n",
       "      <th>trajanje</th>\n",
       "      <th>delovnik</th>\n",
       "      <th>prosta_mesta</th>\n",
       "    </tr>\n",
       "    <tr>\n",
       "      <th>sifra</th>\n",
       "      <th></th>\n",
       "      <th></th>\n",
       "      <th></th>\n",
       "      <th></th>\n",
       "      <th></th>\n",
       "      <th></th>\n",
       "    </tr>\n",
       "  </thead>\n",
       "  <tbody>\n",
       "    <tr>\n",
       "      <th>385238</th>\n",
       "      <td>POUČEVANJE</td>\n",
       "      <td>DOMŽALE</td>\n",
       "      <td>10.1</td>\n",
       "      <td>DLJE ČASA (ZAČ. IN OBČ. DELO)</td>\n",
       "      <td>POPOLDAN</td>\n",
       "      <td>2.0</td>\n",
       "    </tr>\n",
       "    <tr>\n",
       "      <th>380941</th>\n",
       "      <td>POUČEVANJE</td>\n",
       "      <td>ŽALEC</td>\n",
       "      <td>10.1</td>\n",
       "      <td>DLJE ČASA (ZAČ. IN OBČ. DELO)</td>\n",
       "      <td>DOPOLDAN</td>\n",
       "      <td>NaN</td>\n",
       "    </tr>\n",
       "    <tr>\n",
       "      <th>334621</th>\n",
       "      <td>POUČEVANJE</td>\n",
       "      <td>ŠKOFJA LOKA</td>\n",
       "      <td>10.1</td>\n",
       "      <td>DLJE ČASA (ZAČ. IN OBČ. DELO)</td>\n",
       "      <td>PO DOGOVORU</td>\n",
       "      <td>NaN</td>\n",
       "    </tr>\n",
       "    <tr>\n",
       "      <th>378800</th>\n",
       "      <td>POUČEVANJE</td>\n",
       "      <td>LJUBLJANA</td>\n",
       "      <td>10.1</td>\n",
       "      <td>DLJE ČASA (ZAČ. IN OBČ. DELO)</td>\n",
       "      <td>DOPOLDAN</td>\n",
       "      <td>NaN</td>\n",
       "    </tr>\n",
       "    <tr>\n",
       "      <th>334622</th>\n",
       "      <td>POUČEVANJE</td>\n",
       "      <td>ŠKOFJA LOKA</td>\n",
       "      <td>10.1</td>\n",
       "      <td>PO DOGOVORU</td>\n",
       "      <td>PO DOGOVORU</td>\n",
       "      <td>NaN</td>\n",
       "    </tr>\n",
       "    <tr>\n",
       "      <th>...</th>\n",
       "      <td>...</td>\n",
       "      <td>...</td>\n",
       "      <td>...</td>\n",
       "      <td>...</td>\n",
       "      <td>...</td>\n",
       "      <td>...</td>\n",
       "    </tr>\n",
       "    <tr>\n",
       "      <th>383980</th>\n",
       "      <td>INVENTURA</td>\n",
       "      <td>CELJE</td>\n",
       "      <td>5.2</td>\n",
       "      <td>TOREK, 8. 11. 2022</td>\n",
       "      <td>DOPOLDAN</td>\n",
       "      <td>20.0</td>\n",
       "    </tr>\n",
       "    <tr>\n",
       "      <th>384967</th>\n",
       "      <td>POMOČ PRI PRODAJI</td>\n",
       "      <td>CELJE</td>\n",
       "      <td>5.2</td>\n",
       "      <td>DLJE ČASA (ZAČ. IN OBČ. DELO)</td>\n",
       "      <td>IZMENSKO</td>\n",
       "      <td>3.0</td>\n",
       "    </tr>\n",
       "    <tr>\n",
       "      <th>384510</th>\n",
       "      <td>ADMINISTRATIVNA DELA</td>\n",
       "      <td>LJUBLJANA</td>\n",
       "      <td>5.2</td>\n",
       "      <td>DLJE ČASA (ZAČ. IN OBČ. DELO)</td>\n",
       "      <td>DOPOLDAN</td>\n",
       "      <td>NaN</td>\n",
       "    </tr>\n",
       "    <tr>\n",
       "      <th>385227</th>\n",
       "      <td>DELO V LOTERIJI</td>\n",
       "      <td>MARIBOR</td>\n",
       "      <td>5.2</td>\n",
       "      <td>DLJE ČASA (ZAČ. IN OBČ. DELO)</td>\n",
       "      <td>PO DOGOVORU</td>\n",
       "      <td>NaN</td>\n",
       "    </tr>\n",
       "    <tr>\n",
       "      <th>384761</th>\n",
       "      <td>DEKLARIRANJE</td>\n",
       "      <td>LJUBLJANA</td>\n",
       "      <td>5.2</td>\n",
       "      <td>PO DOGOVORU</td>\n",
       "      <td>DOPOLDAN</td>\n",
       "      <td>2.0</td>\n",
       "    </tr>\n",
       "  </tbody>\n",
       "</table>\n",
       "<p>3000 rows × 6 columns</p>\n",
       "</div>"
      ],
      "text/plain": [
       "                  vrsta_dela     lokacija  neto_placilo  \\\n",
       "sifra                                                     \n",
       "385238            POUČEVANJE      DOMŽALE          10.1   \n",
       "380941            POUČEVANJE        ŽALEC          10.1   \n",
       "334621            POUČEVANJE  ŠKOFJA LOKA          10.1   \n",
       "378800            POUČEVANJE    LJUBLJANA          10.1   \n",
       "334622            POUČEVANJE  ŠKOFJA LOKA          10.1   \n",
       "...                      ...          ...           ...   \n",
       "383980             INVENTURA        CELJE           5.2   \n",
       "384967     POMOČ PRI PRODAJI        CELJE           5.2   \n",
       "384510  ADMINISTRATIVNA DELA    LJUBLJANA           5.2   \n",
       "385227       DELO V LOTERIJI      MARIBOR           5.2   \n",
       "384761          DEKLARIRANJE    LJUBLJANA           5.2   \n",
       "\n",
       "                             trajanje     delovnik  prosta_mesta  \n",
       "sifra                                                             \n",
       "385238  DLJE ČASA (ZAČ. IN OBČ. DELO)     POPOLDAN           2.0  \n",
       "380941  DLJE ČASA (ZAČ. IN OBČ. DELO)     DOPOLDAN           NaN  \n",
       "334621  DLJE ČASA (ZAČ. IN OBČ. DELO)  PO DOGOVORU           NaN  \n",
       "378800  DLJE ČASA (ZAČ. IN OBČ. DELO)     DOPOLDAN           NaN  \n",
       "334622                   PO DOGOVORU   PO DOGOVORU           NaN  \n",
       "...                               ...          ...           ...  \n",
       "383980             TOREK, 8. 11. 2022     DOPOLDAN          20.0  \n",
       "384967  DLJE ČASA (ZAČ. IN OBČ. DELO)     IZMENSKO           3.0  \n",
       "384510  DLJE ČASA (ZAČ. IN OBČ. DELO)     DOPOLDAN           NaN  \n",
       "385227  DLJE ČASA (ZAČ. IN OBČ. DELO)  PO DOGOVORU           NaN  \n",
       "384761                   PO DOGOVORU      DOPOLDAN           2.0  \n",
       "\n",
       "[3000 rows x 6 columns]"
      ]
     },
     "execution_count": 5,
     "metadata": {},
     "output_type": "execute_result"
    }
   ],
   "source": [
    "padajoce_placilo"
   ]
  },
  {
   "cell_type": "markdown",
   "metadata": {},
   "source": [
    "Poglejmo, katera dela so najbolje plačana."
   ]
  },
  {
   "cell_type": "code",
   "execution_count": 6,
   "metadata": {},
   "outputs": [
    {
     "data": {
      "text/html": [
       "<div>\n",
       "<style scoped>\n",
       "    .dataframe tbody tr th:only-of-type {\n",
       "        vertical-align: middle;\n",
       "    }\n",
       "\n",
       "    .dataframe tbody tr th {\n",
       "        vertical-align: top;\n",
       "    }\n",
       "\n",
       "    .dataframe thead th {\n",
       "        text-align: right;\n",
       "    }\n",
       "</style>\n",
       "<table border=\"1\" class=\"dataframe\">\n",
       "  <thead>\n",
       "    <tr style=\"text-align: right;\">\n",
       "      <th></th>\n",
       "      <th>vrsta_dela</th>\n",
       "      <th>lokacija</th>\n",
       "      <th>neto_placilo</th>\n",
       "      <th>trajanje</th>\n",
       "      <th>delovnik</th>\n",
       "      <th>prosta_mesta</th>\n",
       "    </tr>\n",
       "    <tr>\n",
       "      <th>sifra</th>\n",
       "      <th></th>\n",
       "      <th></th>\n",
       "      <th></th>\n",
       "      <th></th>\n",
       "      <th></th>\n",
       "      <th></th>\n",
       "    </tr>\n",
       "  </thead>\n",
       "  <tbody>\n",
       "    <tr>\n",
       "      <th>385238</th>\n",
       "      <td>POUČEVANJE</td>\n",
       "      <td>DOMŽALE</td>\n",
       "      <td>10.1</td>\n",
       "      <td>DLJE ČASA (ZAČ. IN OBČ. DELO)</td>\n",
       "      <td>POPOLDAN</td>\n",
       "      <td>2.0</td>\n",
       "    </tr>\n",
       "    <tr>\n",
       "      <th>380941</th>\n",
       "      <td>POUČEVANJE</td>\n",
       "      <td>ŽALEC</td>\n",
       "      <td>10.1</td>\n",
       "      <td>DLJE ČASA (ZAČ. IN OBČ. DELO)</td>\n",
       "      <td>DOPOLDAN</td>\n",
       "      <td>NaN</td>\n",
       "    </tr>\n",
       "    <tr>\n",
       "      <th>334621</th>\n",
       "      <td>POUČEVANJE</td>\n",
       "      <td>ŠKOFJA LOKA</td>\n",
       "      <td>10.1</td>\n",
       "      <td>DLJE ČASA (ZAČ. IN OBČ. DELO)</td>\n",
       "      <td>PO DOGOVORU</td>\n",
       "      <td>NaN</td>\n",
       "    </tr>\n",
       "    <tr>\n",
       "      <th>378800</th>\n",
       "      <td>POUČEVANJE</td>\n",
       "      <td>LJUBLJANA</td>\n",
       "      <td>10.1</td>\n",
       "      <td>DLJE ČASA (ZAČ. IN OBČ. DELO)</td>\n",
       "      <td>DOPOLDAN</td>\n",
       "      <td>NaN</td>\n",
       "    </tr>\n",
       "    <tr>\n",
       "      <th>334622</th>\n",
       "      <td>POUČEVANJE</td>\n",
       "      <td>ŠKOFJA LOKA</td>\n",
       "      <td>10.1</td>\n",
       "      <td>PO DOGOVORU</td>\n",
       "      <td>PO DOGOVORU</td>\n",
       "      <td>NaN</td>\n",
       "    </tr>\n",
       "    <tr>\n",
       "      <th>379678</th>\n",
       "      <td>TRENER/KA</td>\n",
       "      <td>LJUBLJANA - DRAVLJE</td>\n",
       "      <td>10.1</td>\n",
       "      <td>PO DOGOVORU</td>\n",
       "      <td>POPOLDAN</td>\n",
       "      <td>2.0</td>\n",
       "    </tr>\n",
       "    <tr>\n",
       "      <th>381773</th>\n",
       "      <td>POUČEVANJE</td>\n",
       "      <td>KRANJ</td>\n",
       "      <td>10.1</td>\n",
       "      <td>DLJE ČASA (ZAČ. IN OBČ. DELO)</td>\n",
       "      <td>PO DOGOVORU</td>\n",
       "      <td>NaN</td>\n",
       "    </tr>\n",
       "    <tr>\n",
       "      <th>362422</th>\n",
       "      <td>PROGRAMIRANJE</td>\n",
       "      <td>LJUBLJANA</td>\n",
       "      <td>10.0</td>\n",
       "      <td>PO DOGOVORU</td>\n",
       "      <td>PO DOGOVORU</td>\n",
       "      <td>2.0</td>\n",
       "    </tr>\n",
       "    <tr>\n",
       "      <th>385246</th>\n",
       "      <td>TEŽJA FIZIČNA DELA</td>\n",
       "      <td>MARIBOR</td>\n",
       "      <td>10.0</td>\n",
       "      <td>2. IN 3. 11. 2022</td>\n",
       "      <td>DOPOLDAN</td>\n",
       "      <td>2.0</td>\n",
       "    </tr>\n",
       "    <tr>\n",
       "      <th>367219</th>\n",
       "      <td>DELO V KUHINJI</td>\n",
       "      <td>LJUBLJANA</td>\n",
       "      <td>10.0</td>\n",
       "      <td>DLJE ČASA (ZAČ. IN OBČ. DELO)</td>\n",
       "      <td>MED VIKENDI</td>\n",
       "      <td>NaN</td>\n",
       "    </tr>\n",
       "    <tr>\n",
       "      <th>385246</th>\n",
       "      <td>TEŽJA FIZIČNA DELA</td>\n",
       "      <td>MARIBOR</td>\n",
       "      <td>10.0</td>\n",
       "      <td>2. IN 3. 11. 2022</td>\n",
       "      <td>DOPOLDAN</td>\n",
       "      <td>2.0</td>\n",
       "    </tr>\n",
       "    <tr>\n",
       "      <th>367383</th>\n",
       "      <td>PROGRAMIRANJE</td>\n",
       "      <td>KRANJ, DELO OD DOMA</td>\n",
       "      <td>10.0</td>\n",
       "      <td>DLJE ČASA (ZAČ. IN OBČ. DELO)</td>\n",
       "      <td>PO DOGOVORU</td>\n",
       "      <td>NaN</td>\n",
       "    </tr>\n",
       "    <tr>\n",
       "      <th>380609</th>\n",
       "      <td>POUČEVANJE</td>\n",
       "      <td>LJUBLJANA</td>\n",
       "      <td>10.0</td>\n",
       "      <td>DLJE ČASA (ZAČ. IN OBČ. DELO)</td>\n",
       "      <td>POPOLDAN</td>\n",
       "      <td>NaN</td>\n",
       "    </tr>\n",
       "    <tr>\n",
       "      <th>379834</th>\n",
       "      <td>STREŽBA HRANE IN PIJAČE</td>\n",
       "      <td>LJUBLJANA</td>\n",
       "      <td>10.0</td>\n",
       "      <td>DLJE ČASA (ZAČ. IN OBČ. DELO)</td>\n",
       "      <td>PO DOGOVORU</td>\n",
       "      <td>3.0</td>\n",
       "    </tr>\n",
       "    <tr>\n",
       "      <th>384587</th>\n",
       "      <td>POUČEVANJE</td>\n",
       "      <td>LJUBLJANA</td>\n",
       "      <td>10.0</td>\n",
       "      <td>DLJE ČASA (ZAČ. IN OBČ. DELO)</td>\n",
       "      <td>PO DOGOVORU</td>\n",
       "      <td>3.0</td>\n",
       "    </tr>\n",
       "  </tbody>\n",
       "</table>\n",
       "</div>"
      ],
      "text/plain": [
       "                     vrsta_dela             lokacija  neto_placilo  \\\n",
       "sifra                                                                \n",
       "385238               POUČEVANJE              DOMŽALE          10.1   \n",
       "380941               POUČEVANJE                ŽALEC          10.1   \n",
       "334621               POUČEVANJE          ŠKOFJA LOKA          10.1   \n",
       "378800               POUČEVANJE            LJUBLJANA          10.1   \n",
       "334622               POUČEVANJE          ŠKOFJA LOKA          10.1   \n",
       "379678                TRENER/KA  LJUBLJANA - DRAVLJE          10.1   \n",
       "381773               POUČEVANJE                KRANJ          10.1   \n",
       "362422            PROGRAMIRANJE            LJUBLJANA          10.0   \n",
       "385246       TEŽJA FIZIČNA DELA              MARIBOR          10.0   \n",
       "367219           DELO V KUHINJI            LJUBLJANA          10.0   \n",
       "385246       TEŽJA FIZIČNA DELA              MARIBOR          10.0   \n",
       "367383            PROGRAMIRANJE  KRANJ, DELO OD DOMA          10.0   \n",
       "380609               POUČEVANJE            LJUBLJANA          10.0   \n",
       "379834  STREŽBA HRANE IN PIJAČE            LJUBLJANA          10.0   \n",
       "384587               POUČEVANJE            LJUBLJANA          10.0   \n",
       "\n",
       "                             trajanje     delovnik  prosta_mesta  \n",
       "sifra                                                             \n",
       "385238  DLJE ČASA (ZAČ. IN OBČ. DELO)     POPOLDAN           2.0  \n",
       "380941  DLJE ČASA (ZAČ. IN OBČ. DELO)     DOPOLDAN           NaN  \n",
       "334621  DLJE ČASA (ZAČ. IN OBČ. DELO)  PO DOGOVORU           NaN  \n",
       "378800  DLJE ČASA (ZAČ. IN OBČ. DELO)     DOPOLDAN           NaN  \n",
       "334622                   PO DOGOVORU   PO DOGOVORU           NaN  \n",
       "379678                    PO DOGOVORU     POPOLDAN           2.0  \n",
       "381773  DLJE ČASA (ZAČ. IN OBČ. DELO)  PO DOGOVORU           NaN  \n",
       "362422                    PO DOGOVORU  PO DOGOVORU           2.0  \n",
       "385246              2. IN 3. 11. 2022     DOPOLDAN           2.0  \n",
       "367219  DLJE ČASA (ZAČ. IN OBČ. DELO)  MED VIKENDI           NaN  \n",
       "385246              2. IN 3. 11. 2022     DOPOLDAN           2.0  \n",
       "367383  DLJE ČASA (ZAČ. IN OBČ. DELO)  PO DOGOVORU           NaN  \n",
       "380609  DLJE ČASA (ZAČ. IN OBČ. DELO)     POPOLDAN           NaN  \n",
       "379834  DLJE ČASA (ZAČ. IN OBČ. DELO)  PO DOGOVORU           3.0  \n",
       "384587  DLJE ČASA (ZAČ. IN OBČ. DELO)  PO DOGOVORU           3.0  "
      ]
     },
     "execution_count": 6,
     "metadata": {},
     "output_type": "execute_result"
    }
   ],
   "source": [
    "padajoce_placilo.head(15)"
   ]
  },
  {
   "cell_type": "markdown",
   "metadata": {},
   "source": [
    "Opazimo, da se med najbolje plačanimi deli največkrat pojavi poučevanje."
   ]
  },
  {
   "cell_type": "code",
   "execution_count": 7,
   "metadata": {},
   "outputs": [
    {
     "data": {
      "text/plain": [
       "lokacija\n",
       "LJUBLJANA IN LETALIŠČE BRNIK      1\n",
       "VIDEM - DOBREPOLJE                1\n",
       "MAREZIGE                          1\n",
       "VIDEM DOBREPOLJE                  1\n",
       "MALA NEDELJA                      1\n",
       "                               ... \n",
       "LJUBLJANA BTC                    60\n",
       "KRANJ                            77\n",
       "CELJE                            82\n",
       "MARIBOR                         140\n",
       "LJUBLJANA                       649\n",
       "Length: 635, dtype: int64"
      ]
     },
     "execution_count": 7,
     "metadata": {},
     "output_type": "execute_result"
    }
   ],
   "source": [
    "oglasi.groupby(\"lokacija\").size().sort_values()"
   ]
  },
  {
   "cell_type": "markdown",
   "metadata": {},
   "source": [
    "Kot pričakovano, je največ ponudb za delo v največjih krajih v Sloveniji - Ljubljani, Mariboru, Celju in Kranju."
   ]
  },
  {
   "cell_type": "markdown",
   "metadata": {},
   "source": [
    "Poglejmo, ali je število ponudb za delo povezano z urno postavko."
   ]
  },
  {
   "cell_type": "code",
   "execution_count": 8,
   "metadata": {},
   "outputs": [
    {
     "data": {
      "text/plain": [
       "<AxesSubplot: xlabel='neto_placilo'>"
      ]
     },
     "execution_count": 8,
     "metadata": {},
     "output_type": "execute_result"
    },
    {
     "data": {
      "image/png": "[encoded data removed]",
      "text/plain": [
       "<Figure size 640x480 with 1 Axes>"
      ]
     },
     "metadata": {},
     "output_type": "display_data"
    }
   ],
   "source": [
    "oglasi.groupby(\"neto_placilo\").size().plot()"
   ]
  },
  {
   "cell_type": "code",
   "execution_count": 9,
   "metadata": {},
   "outputs": [
    {
     "data": {
      "text/plain": [
       "lokacija\n",
       "AJDOVŠČINA                    7.150000\n",
       "AJDOVŠČINA ALI NOVA GORICA    6.700000\n",
       "ANKARAN                       6.766667\n",
       "BEGUNJE NA GORENJSKEM         7.700000\n",
       "BELTINCI                      8.000000\n",
       "                                ...   \n",
       "ŽETALE ALI NA DALJAVO         8.400000\n",
       "ŽIRI                          6.160000\n",
       "ŽIROVNICA                     7.000000\n",
       "ŽIROVNICA Z OKOLICO           7.000000\n",
       "ŽUŽEMBERK                     8.000000\n",
       "Name: neto_placilo, Length: 635, dtype: float64"
      ]
     },
     "execution_count": 9,
     "metadata": {},
     "output_type": "execute_result"
    }
   ],
   "source": [
    "oglasi.groupby(\"lokacija\").neto_placilo.mean()"
   ]
  },
  {
   "cell_type": "markdown",
   "metadata": {},
   "source": [
    "%%%%%%%%%%%%%%%%%%%%%%%%%%%%%%%%%%%%%%%%%%%%%%%%%%%%%%%%%%%%%%%%%%%%%%%%%%%%%%%%%%%%%%%%%%%%%%%%%%%%%%%%%%"
   ]
  },
  {
   "cell_type": "code",
   "execution_count": 11,
   "metadata": {},
   "outputs": [
    {
     "data": {
      "text/plain": [
       "sifra\n",
       "288776    False\n",
       "304105    False\n",
       "309918    False\n",
       "309919    False\n",
       "317382    False\n",
       "          ...  \n",
       "385366    False\n",
       "385367    False\n",
       "385371    False\n",
       "385372    False\n",
       "385373    False\n",
       "Name: neto_placilo, Length: 3000, dtype: bool"
      ]
     },
     "execution_count": 11,
     "metadata": {},
     "output_type": "execute_result"
    }
   ],
   "source": [
    "oglasi.neto_placilo > 10"
   ]
  },
  {
   "cell_type": "code",
   "execution_count": 12,
   "metadata": {},
   "outputs": [
    {
     "data": {
      "text/html": [
       "<div>\n",
       "<style scoped>\n",
       "    .dataframe tbody tr th:only-of-type {\n",
       "        vertical-align: middle;\n",
       "    }\n",
       "\n",
       "    .dataframe tbody tr th {\n",
       "        vertical-align: top;\n",
       "    }\n",
       "\n",
       "    .dataframe thead th {\n",
       "        text-align: right;\n",
       "    }\n",
       "</style>\n",
       "<table border=\"1\" class=\"dataframe\">\n",
       "  <thead>\n",
       "    <tr style=\"text-align: right;\">\n",
       "      <th></th>\n",
       "      <th>vrsta_dela</th>\n",
       "      <th>lokacija</th>\n",
       "      <th>neto_placilo</th>\n",
       "      <th>trajanje</th>\n",
       "      <th>delovnik</th>\n",
       "      <th>prosta_mesta</th>\n",
       "    </tr>\n",
       "    <tr>\n",
       "      <th>sifra</th>\n",
       "      <th></th>\n",
       "      <th></th>\n",
       "      <th></th>\n",
       "      <th></th>\n",
       "      <th></th>\n",
       "      <th></th>\n",
       "    </tr>\n",
       "  </thead>\n",
       "  <tbody>\n",
       "    <tr>\n",
       "      <th>334621</th>\n",
       "      <td>POUČEVANJE</td>\n",
       "      <td>ŠKOFJA LOKA</td>\n",
       "      <td>10.1</td>\n",
       "      <td>DLJE ČASA (ZAČ. IN OBČ. DELO)</td>\n",
       "      <td>PO DOGOVORU</td>\n",
       "      <td>NaN</td>\n",
       "    </tr>\n",
       "    <tr>\n",
       "      <th>334622</th>\n",
       "      <td>POUČEVANJE</td>\n",
       "      <td>ŠKOFJA LOKA</td>\n",
       "      <td>10.1</td>\n",
       "      <td>PO DOGOVORU</td>\n",
       "      <td>PO DOGOVORU</td>\n",
       "      <td>NaN</td>\n",
       "    </tr>\n",
       "    <tr>\n",
       "      <th>378800</th>\n",
       "      <td>POUČEVANJE</td>\n",
       "      <td>LJUBLJANA</td>\n",
       "      <td>10.1</td>\n",
       "      <td>DLJE ČASA (ZAČ. IN OBČ. DELO)</td>\n",
       "      <td>DOPOLDAN</td>\n",
       "      <td>NaN</td>\n",
       "    </tr>\n",
       "    <tr>\n",
       "      <th>379678</th>\n",
       "      <td>TRENER/KA</td>\n",
       "      <td>LJUBLJANA - DRAVLJE</td>\n",
       "      <td>10.1</td>\n",
       "      <td>PO DOGOVORU</td>\n",
       "      <td>POPOLDAN</td>\n",
       "      <td>2.0</td>\n",
       "    </tr>\n",
       "    <tr>\n",
       "      <th>380941</th>\n",
       "      <td>POUČEVANJE</td>\n",
       "      <td>ŽALEC</td>\n",
       "      <td>10.1</td>\n",
       "      <td>DLJE ČASA (ZAČ. IN OBČ. DELO)</td>\n",
       "      <td>DOPOLDAN</td>\n",
       "      <td>NaN</td>\n",
       "    </tr>\n",
       "    <tr>\n",
       "      <th>381773</th>\n",
       "      <td>POUČEVANJE</td>\n",
       "      <td>KRANJ</td>\n",
       "      <td>10.1</td>\n",
       "      <td>DLJE ČASA (ZAČ. IN OBČ. DELO)</td>\n",
       "      <td>PO DOGOVORU</td>\n",
       "      <td>NaN</td>\n",
       "    </tr>\n",
       "    <tr>\n",
       "      <th>385238</th>\n",
       "      <td>POUČEVANJE</td>\n",
       "      <td>DOMŽALE</td>\n",
       "      <td>10.1</td>\n",
       "      <td>DLJE ČASA (ZAČ. IN OBČ. DELO)</td>\n",
       "      <td>POPOLDAN</td>\n",
       "      <td>2.0</td>\n",
       "    </tr>\n",
       "  </tbody>\n",
       "</table>\n",
       "</div>"
      ],
      "text/plain": [
       "        vrsta_dela             lokacija  neto_placilo  \\\n",
       "sifra                                                   \n",
       "334621  POUČEVANJE          ŠKOFJA LOKA          10.1   \n",
       "334622  POUČEVANJE          ŠKOFJA LOKA          10.1   \n",
       "378800  POUČEVANJE            LJUBLJANA          10.1   \n",
       "379678   TRENER/KA  LJUBLJANA - DRAVLJE          10.1   \n",
       "380941  POUČEVANJE                ŽALEC          10.1   \n",
       "381773  POUČEVANJE                KRANJ          10.1   \n",
       "385238  POUČEVANJE              DOMŽALE          10.1   \n",
       "\n",
       "                             trajanje     delovnik  prosta_mesta  \n",
       "sifra                                                             \n",
       "334621  DLJE ČASA (ZAČ. IN OBČ. DELO)  PO DOGOVORU           NaN  \n",
       "334622                   PO DOGOVORU   PO DOGOVORU           NaN  \n",
       "378800  DLJE ČASA (ZAČ. IN OBČ. DELO)     DOPOLDAN           NaN  \n",
       "379678                    PO DOGOVORU     POPOLDAN           2.0  \n",
       "380941  DLJE ČASA (ZAČ. IN OBČ. DELO)     DOPOLDAN           NaN  \n",
       "381773  DLJE ČASA (ZAČ. IN OBČ. DELO)  PO DOGOVORU           NaN  \n",
       "385238  DLJE ČASA (ZAČ. IN OBČ. DELO)     POPOLDAN           2.0  "
      ]
     },
     "execution_count": 12,
     "metadata": {},
     "output_type": "execute_result"
    }
   ],
   "source": [
    "oglasi[oglasi.neto_placilo > 10]"
   ]
  },
  {
   "cell_type": "code",
   "execution_count": 13,
   "metadata": {},
   "outputs": [
    {
     "data": {
      "text/plain": [
       "sifra\n",
       "288776         NaN\n",
       "304105         NaN\n",
       "309918         NaN\n",
       "309919         NaN\n",
       "317382    0.285714\n",
       "            ...   \n",
       "385366         NaN\n",
       "385367    0.298507\n",
       "385371         NaN\n",
       "385372         NaN\n",
       "385373    0.877193\n",
       "Length: 3000, dtype: float64"
      ]
     },
     "execution_count": 13,
     "metadata": {},
     "output_type": "execute_result"
    }
   ],
   "source": [
    "oglasi.prosta_mesta / oglasi.neto_placilo"
   ]
  },
  {
   "cell_type": "code",
   "execution_count": 17,
   "metadata": {},
   "outputs": [
    {
     "data": {
      "text/plain": [
       "lokacija\n",
       "AJDOVŠČINA                    7.150000\n",
       "AJDOVŠČINA ALI NOVA GORICA    6.700000\n",
       "ANKARAN                       6.766667\n",
       "BEGUNJE NA GORENJSKEM         7.700000\n",
       "BELTINCI                      8.000000\n",
       "                                ...   \n",
       "ŽETALE ALI NA DALJAVO         8.400000\n",
       "ŽIRI                          6.160000\n",
       "ŽIROVNICA                     7.000000\n",
       "ŽIROVNICA Z OKOLICO           7.000000\n",
       "ŽUŽEMBERK                     8.000000\n",
       "Name: neto_placilo, Length: 635, dtype: float64"
      ]
     },
     "execution_count": 17,
     "metadata": {},
     "output_type": "execute_result"
    }
   ],
   "source": [
    "oglasi.groupby(\"lokacija\").neto_placilo.mean()"
   ]
  },
  {
   "cell_type": "code",
   "execution_count": 18,
   "metadata": {},
   "outputs": [
    {
     "data": {
      "text/html": [
       "<div>\n",
       "<style scoped>\n",
       "    .dataframe tbody tr th:only-of-type {\n",
       "        vertical-align: middle;\n",
       "    }\n",
       "\n",
       "    .dataframe tbody tr th {\n",
       "        vertical-align: top;\n",
       "    }\n",
       "\n",
       "    .dataframe thead th {\n",
       "        text-align: right;\n",
       "    }\n",
       "</style>\n",
       "<table border=\"1\" class=\"dataframe\">\n",
       "  <thead>\n",
       "    <tr style=\"text-align: right;\">\n",
       "      <th></th>\n",
       "      <th>neto_placilo</th>\n",
       "      <th>prosta_mesta</th>\n",
       "    </tr>\n",
       "    <tr>\n",
       "      <th>lokacija</th>\n",
       "      <th></th>\n",
       "      <th></th>\n",
       "    </tr>\n",
       "  </thead>\n",
       "  <tbody>\n",
       "    <tr>\n",
       "      <th>AJDOVŠČINA</th>\n",
       "      <td>7.150000</td>\n",
       "      <td>2.500000</td>\n",
       "    </tr>\n",
       "    <tr>\n",
       "      <th>AJDOVŠČINA ALI NOVA GORICA</th>\n",
       "      <td>6.700000</td>\n",
       "      <td>2.000000</td>\n",
       "    </tr>\n",
       "    <tr>\n",
       "      <th>ANKARAN</th>\n",
       "      <td>6.766667</td>\n",
       "      <td>2.333333</td>\n",
       "    </tr>\n",
       "    <tr>\n",
       "      <th>BEGUNJE NA GORENJSKEM</th>\n",
       "      <td>7.700000</td>\n",
       "      <td>2.000000</td>\n",
       "    </tr>\n",
       "    <tr>\n",
       "      <th>BELTINCI</th>\n",
       "      <td>8.000000</td>\n",
       "      <td>NaN</td>\n",
       "    </tr>\n",
       "    <tr>\n",
       "      <th>...</th>\n",
       "      <td>...</td>\n",
       "      <td>...</td>\n",
       "    </tr>\n",
       "    <tr>\n",
       "      <th>ŽETALE ALI NA DALJAVO</th>\n",
       "      <td>8.400000</td>\n",
       "      <td>NaN</td>\n",
       "    </tr>\n",
       "    <tr>\n",
       "      <th>ŽIRI</th>\n",
       "      <td>6.160000</td>\n",
       "      <td>2.000000</td>\n",
       "    </tr>\n",
       "    <tr>\n",
       "      <th>ŽIROVNICA</th>\n",
       "      <td>7.000000</td>\n",
       "      <td>NaN</td>\n",
       "    </tr>\n",
       "    <tr>\n",
       "      <th>ŽIROVNICA Z OKOLICO</th>\n",
       "      <td>7.000000</td>\n",
       "      <td>NaN</td>\n",
       "    </tr>\n",
       "    <tr>\n",
       "      <th>ŽUŽEMBERK</th>\n",
       "      <td>8.000000</td>\n",
       "      <td>2.000000</td>\n",
       "    </tr>\n",
       "  </tbody>\n",
       "</table>\n",
       "<p>635 rows × 2 columns</p>\n",
       "</div>"
      ],
      "text/plain": [
       "                            neto_placilo  prosta_mesta\n",
       "lokacija                                              \n",
       "AJDOVŠČINA                      7.150000      2.500000\n",
       "AJDOVŠČINA ALI NOVA GORICA      6.700000      2.000000\n",
       "ANKARAN                         6.766667      2.333333\n",
       "BEGUNJE NA GORENJSKEM           7.700000      2.000000\n",
       "BELTINCI                        8.000000           NaN\n",
       "...                                  ...           ...\n",
       "ŽETALE ALI NA DALJAVO           8.400000           NaN\n",
       "ŽIRI                            6.160000      2.000000\n",
       "ŽIROVNICA                       7.000000           NaN\n",
       "ŽIROVNICA Z OKOLICO             7.000000           NaN\n",
       "ŽUŽEMBERK                       8.000000      2.000000\n",
       "\n",
       "[635 rows x 2 columns]"
      ]
     },
     "execution_count": 18,
     "metadata": {},
     "output_type": "execute_result"
    }
   ],
   "source": [
    "oglasi.groupby(\"lokacija\").mean(numeric_only=True)"
   ]
  },
  {
   "cell_type": "code",
   "execution_count": 19,
   "metadata": {},
   "outputs": [
    {
     "data": {
      "text/plain": [
       "<AxesSubplot: xlabel='neto_placilo'>"
      ]
     },
     "execution_count": 19,
     "metadata": {},
     "output_type": "execute_result"
    },
    {
     "data": {
      "image/png": "[encoded data removed]",
      "text/plain": [
       "<Figure size 640x480 with 1 Axes>"
      ]
     },
     "metadata": {},
     "output_type": "display_data"
    }
   ],
   "source": [
    "oglasi.groupby(\"neto_placilo\").prosta_mesta.mean().plot()"
   ]
  },
  {
   "cell_type": "code",
   "execution_count": 20,
   "metadata": {},
   "outputs": [
    {
     "data": {
      "text/plain": [
       "<AxesSubplot: xlabel='neto_placilo'>"
      ]
     },
     "execution_count": 20,
     "metadata": {},
     "output_type": "execute_result"
    },
    {
     "data": {
      "image/png": "[encoded data removed]",
      "text/plain": [
       "<Figure size 640x480 with 1 Axes>"
      ]
     },
     "metadata": {},
     "output_type": "display_data"
    }
   ],
   "source": [
    "oglasi.groupby(\"neto_placilo\").prosta_mesta.mean().plot.bar()"
   ]
  },
  {
   "cell_type": "code",
   "execution_count": 21,
   "metadata": {},
   "outputs": [
    {
     "data": {
      "text/plain": [
       "<AxesSubplot: xlabel='sifra'>"
      ]
     },
     "execution_count": 21,
     "metadata": {},
     "output_type": "execute_result"
    },
    {
     "data": {
      "image/png": "[encoded data removed]",
      "text/plain": [
       "<Figure size 640x480 with 1 Axes>"
      ]
     },
     "metadata": {},
     "output_type": "display_data"
    }
   ],
   "source": [
    "oglasi[\n",
    "    oglasi.neto_placilo > 7\n",
    "    ].sort_values(\n",
    "        \"neto_placilo\", ascending=False\n",
    "    ).head(\n",
    "            15\n",
    "    ).prosta_mesta.plot.bar()"
   ]
  },
  {
   "cell_type": "code",
   "execution_count": 23,
   "metadata": {},
   "outputs": [
    {
     "data": {
      "text/plain": [
       "<AxesSubplot: xlabel='neto_placilo', ylabel='prosta_mesta'>"
      ]
     },
     "execution_count": 23,
     "metadata": {},
     "output_type": "execute_result"
    },
    {
     "data": {
      "image/png": "[encoded data removed]",
      "text/plain": [
       "<Figure size 640x480 with 1 Axes>"
      ]
     },
     "metadata": {},
     "output_type": "display_data"
    }
   ],
   "source": [
    "oglasi.plot.scatter(x=\"neto_placilo\", y=\"prosta_mesta\")"
   ]
  }
 ],
 "metadata": {
  "kernelspec": {
   "display_name": "Python 3",
   "language": "python",
   "name": "python3"
  },
  "language_info": {
   "codemirror_mode": {
    "name": "ipython",
    "version": 3
   },
   "file_extension": ".py",
   "mimetype": "text/x-python",
   "name": "python",
   "nbconvert_exporter": "python",
   "pygments_lexer": "ipython3",
   "version": "3.10.2"
  },
  "orig_nbformat": 4
 },
 "nbformat": 4,
 "nbformat_minor": 2
}
