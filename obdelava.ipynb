{
 "cells": [
  {
   "cell_type": "markdown",
   "metadata": {},
   "source": [
    "# Analiza oglasov za delo"
   ]
  },
  {
   "cell_type": "markdown",
   "metadata": {},
   "source": [
    "Za projektno nalogo bom analizirala oglase za delo, ki so bili objavljeni na spletni strani [e-Študentski Servis](https://www.studentski-servis.com/studenti/prosta-dela)."
   ]
  },
  {
   "cell_type": "code",
   "execution_count": 1,
   "metadata": {},
   "outputs": [],
   "source": [
    "import pandas as pd"
   ]
  },
  {
   "cell_type": "code",
   "execution_count": 2,
   "metadata": {},
   "outputs": [],
   "source": [
    "oglasi = pd.read_csv(\"\\obdelani-podatki\\oglasi.csv\", index_col=\"sifra\")"
   ]
  },
  {
   "cell_type": "code",
   "execution_count": 3,
   "metadata": {},
   "outputs": [
    {
     "data": {
      "text/html": [
       "<div>\n",
       "<style scoped>\n",
       "    .dataframe tbody tr th:only-of-type {\n",
       "        vertical-align: middle;\n",
       "    }\n",
       "\n",
       "    .dataframe tbody tr th {\n",
       "        vertical-align: top;\n",
       "    }\n",
       "\n",
       "    .dataframe thead th {\n",
       "        text-align: right;\n",
       "    }\n",
       "</style>\n",
       "<table border=\"1\" class=\"dataframe\">\n",
       "  <thead>\n",
       "    <tr style=\"text-align: right;\">\n",
       "      <th></th>\n",
       "      <th>vrsta_dela</th>\n",
       "      <th>lokacija</th>\n",
       "      <th>neto_placilo</th>\n",
       "      <th>trajanje</th>\n",
       "      <th>delovnik</th>\n",
       "      <th>prosta_mesta</th>\n",
       "    </tr>\n",
       "    <tr>\n",
       "      <th>sifra</th>\n",
       "      <th></th>\n",
       "      <th></th>\n",
       "      <th></th>\n",
       "      <th></th>\n",
       "      <th></th>\n",
       "      <th></th>\n",
       "    </tr>\n",
       "  </thead>\n",
       "  <tbody>\n",
       "    <tr>\n",
       "      <th>288776</th>\n",
       "      <td>TRENER/KA</td>\n",
       "      <td>HRUŠICA</td>\n",
       "      <td>8.4</td>\n",
       "      <td>DLJE ČASA (OBČASNO)</td>\n",
       "      <td>PO DOGOVORU</td>\n",
       "      <td>NaN</td>\n",
       "    </tr>\n",
       "    <tr>\n",
       "      <th>304105</th>\n",
       "      <td>DELO NA TERENU</td>\n",
       "      <td>POSAVJE</td>\n",
       "      <td>6.0</td>\n",
       "      <td>PO DOGOVORU</td>\n",
       "      <td>PO DOGOVORU</td>\n",
       "      <td>NaN</td>\n",
       "    </tr>\n",
       "    <tr>\n",
       "      <th>309918</th>\n",
       "      <td>DELO NA TERENU</td>\n",
       "      <td>RIBNICA, KOČEVJE</td>\n",
       "      <td>6.0</td>\n",
       "      <td>PO DOGOVORU</td>\n",
       "      <td>PO DOGOVORU</td>\n",
       "      <td>NaN</td>\n",
       "    </tr>\n",
       "    <tr>\n",
       "      <th>309919</th>\n",
       "      <td>DELO NA TERENU</td>\n",
       "      <td>ČRNOMELJ, METLIKA</td>\n",
       "      <td>6.0</td>\n",
       "      <td>PO DOGOVORU</td>\n",
       "      <td>PO DOGOVORU</td>\n",
       "      <td>NaN</td>\n",
       "    </tr>\n",
       "    <tr>\n",
       "      <th>317382</th>\n",
       "      <td>STREŽBA</td>\n",
       "      <td>CERKLJE NA GORENJSKEM</td>\n",
       "      <td>7.0</td>\n",
       "      <td>DLJE ČASA (ZAČ. IN OBČ. DELO)</td>\n",
       "      <td>MED VIKENDI</td>\n",
       "      <td>2.0</td>\n",
       "    </tr>\n",
       "    <tr>\n",
       "      <th>...</th>\n",
       "      <td>...</td>\n",
       "      <td>...</td>\n",
       "      <td>...</td>\n",
       "      <td>...</td>\n",
       "      <td>...</td>\n",
       "      <td>...</td>\n",
       "    </tr>\n",
       "    <tr>\n",
       "      <th>385366</th>\n",
       "      <td>POMOČ V KUHINJI</td>\n",
       "      <td>SORICA</td>\n",
       "      <td>7.0</td>\n",
       "      <td>PO DOGOVORU</td>\n",
       "      <td>PO DOGOVORU</td>\n",
       "      <td>NaN</td>\n",
       "    </tr>\n",
       "    <tr>\n",
       "      <th>385367</th>\n",
       "      <td>KLICNI CENTER</td>\n",
       "      <td>LJUBLJANA  ŠIŠKA</td>\n",
       "      <td>6.7</td>\n",
       "      <td>DLJE ČASA (ZAČ. IN OBČ. DELO)</td>\n",
       "      <td>IZMENSKO</td>\n",
       "      <td>2.0</td>\n",
       "    </tr>\n",
       "    <tr>\n",
       "      <th>385371</th>\n",
       "      <td>POMOČ PRI PRODAJI</td>\n",
       "      <td>LJUBLJANA - BTC</td>\n",
       "      <td>6.0</td>\n",
       "      <td>DLJE ČASA (ZAČ. IN OBČ. DELO)</td>\n",
       "      <td>IZMENSKO</td>\n",
       "      <td>NaN</td>\n",
       "    </tr>\n",
       "    <tr>\n",
       "      <th>385372</th>\n",
       "      <td>DELO V DELAVNICI</td>\n",
       "      <td>JAKOBSKI DOL</td>\n",
       "      <td>7.0</td>\n",
       "      <td>PO DOGOVORU</td>\n",
       "      <td>DOPOLDAN</td>\n",
       "      <td>NaN</td>\n",
       "    </tr>\n",
       "    <tr>\n",
       "      <th>385373</th>\n",
       "      <td>BLAGAJNIK</td>\n",
       "      <td>CELJE</td>\n",
       "      <td>5.7</td>\n",
       "      <td>DLJE ČASA (ZAČ. IN OBČ. DELO)</td>\n",
       "      <td>IZMENSKO</td>\n",
       "      <td>5.0</td>\n",
       "    </tr>\n",
       "  </tbody>\n",
       "</table>\n",
       "<p>3000 rows × 6 columns</p>\n",
       "</div>"
      ],
      "text/plain": [
       "               vrsta_dela               lokacija  neto_placilo  \\\n",
       "sifra                                                            \n",
       "288776          TRENER/KA                HRUŠICA           8.4   \n",
       "304105     DELO NA TERENU                POSAVJE           6.0   \n",
       "309918     DELO NA TERENU       RIBNICA, KOČEVJE           6.0   \n",
       "309919     DELO NA TERENU      ČRNOMELJ, METLIKA           6.0   \n",
       "317382            STREŽBA  CERKLJE NA GORENJSKEM           7.0   \n",
       "...                   ...                    ...           ...   \n",
       "385366    POMOČ V KUHINJI                 SORICA           7.0   \n",
       "385367      KLICNI CENTER       LJUBLJANA  ŠIŠKA           6.7   \n",
       "385371  POMOČ PRI PRODAJI        LJUBLJANA - BTC           6.0   \n",
       "385372   DELO V DELAVNICI           JAKOBSKI DOL           7.0   \n",
       "385373          BLAGAJNIK                  CELJE           5.7   \n",
       "\n",
       "                             trajanje     delovnik  prosta_mesta  \n",
       "sifra                                                             \n",
       "288776            DLJE ČASA (OBČASNO)  PO DOGOVORU           NaN  \n",
       "304105                    PO DOGOVORU  PO DOGOVORU           NaN  \n",
       "309918                    PO DOGOVORU  PO DOGOVORU           NaN  \n",
       "309919                    PO DOGOVORU  PO DOGOVORU           NaN  \n",
       "317382  DLJE ČASA (ZAČ. IN OBČ. DELO)  MED VIKENDI           2.0  \n",
       "...                               ...          ...           ...  \n",
       "385366                    PO DOGOVORU  PO DOGOVORU           NaN  \n",
       "385367  DLJE ČASA (ZAČ. IN OBČ. DELO)     IZMENSKO           2.0  \n",
       "385371  DLJE ČASA (ZAČ. IN OBČ. DELO)     IZMENSKO           NaN  \n",
       "385372                    PO DOGOVORU     DOPOLDAN           NaN  \n",
       "385373  DLJE ČASA (ZAČ. IN OBČ. DELO)     IZMENSKO           5.0  \n",
       "\n",
       "[3000 rows x 6 columns]"
      ]
     },
     "execution_count": 3,
     "metadata": {},
     "output_type": "execute_result"
    }
   ],
   "source": [
    "oglasi"
   ]
  },
  {
   "cell_type": "markdown",
   "metadata": {},
   "source": [
    "## Plačilo"
   ]
  },
  {
   "cell_type": "markdown",
   "metadata": {},
   "source": [
    "Oglasi so razvrščeni kronološko, kot so jih objavljali na spletno stran. Poglejmo si razvrstitev po padajoči urni postavki."
   ]
  },
  {
   "cell_type": "code",
   "execution_count": 4,
   "metadata": {},
   "outputs": [],
   "source": [
    "padajoce_placilo = oglasi.sort_values(\"neto_placilo\", ascending=False)"
   ]
  },
  {
   "cell_type": "code",
   "execution_count": 5,
   "metadata": {},
   "outputs": [
    {
     "data": {
      "text/html": [
       "<div>\n",
       "<style scoped>\n",
       "    .dataframe tbody tr th:only-of-type {\n",
       "        vertical-align: middle;\n",
       "    }\n",
       "\n",
       "    .dataframe tbody tr th {\n",
       "        vertical-align: top;\n",
       "    }\n",
       "\n",
       "    .dataframe thead th {\n",
       "        text-align: right;\n",
       "    }\n",
       "</style>\n",
       "<table border=\"1\" class=\"dataframe\">\n",
       "  <thead>\n",
       "    <tr style=\"text-align: right;\">\n",
       "      <th></th>\n",
       "      <th>vrsta_dela</th>\n",
       "      <th>lokacija</th>\n",
       "      <th>neto_placilo</th>\n",
       "      <th>trajanje</th>\n",
       "      <th>delovnik</th>\n",
       "      <th>prosta_mesta</th>\n",
       "    </tr>\n",
       "    <tr>\n",
       "      <th>sifra</th>\n",
       "      <th></th>\n",
       "      <th></th>\n",
       "      <th></th>\n",
       "      <th></th>\n",
       "      <th></th>\n",
       "      <th></th>\n",
       "    </tr>\n",
       "  </thead>\n",
       "  <tbody>\n",
       "    <tr>\n",
       "      <th>385238</th>\n",
       "      <td>POUČEVANJE</td>\n",
       "      <td>DOMŽALE</td>\n",
       "      <td>10.1</td>\n",
       "      <td>DLJE ČASA (ZAČ. IN OBČ. DELO)</td>\n",
       "      <td>POPOLDAN</td>\n",
       "      <td>2.0</td>\n",
       "    </tr>\n",
       "    <tr>\n",
       "      <th>380941</th>\n",
       "      <td>POUČEVANJE</td>\n",
       "      <td>ŽALEC</td>\n",
       "      <td>10.1</td>\n",
       "      <td>DLJE ČASA (ZAČ. IN OBČ. DELO)</td>\n",
       "      <td>DOPOLDAN</td>\n",
       "      <td>NaN</td>\n",
       "    </tr>\n",
       "    <tr>\n",
       "      <th>334621</th>\n",
       "      <td>POUČEVANJE</td>\n",
       "      <td>ŠKOFJA LOKA</td>\n",
       "      <td>10.1</td>\n",
       "      <td>DLJE ČASA (ZAČ. IN OBČ. DELO)</td>\n",
       "      <td>PO DOGOVORU</td>\n",
       "      <td>NaN</td>\n",
       "    </tr>\n",
       "    <tr>\n",
       "      <th>378800</th>\n",
       "      <td>POUČEVANJE</td>\n",
       "      <td>LJUBLJANA</td>\n",
       "      <td>10.1</td>\n",
       "      <td>DLJE ČASA (ZAČ. IN OBČ. DELO)</td>\n",
       "      <td>DOPOLDAN</td>\n",
       "      <td>NaN</td>\n",
       "    </tr>\n",
       "    <tr>\n",
       "      <th>334622</th>\n",
       "      <td>POUČEVANJE</td>\n",
       "      <td>ŠKOFJA LOKA</td>\n",
       "      <td>10.1</td>\n",
       "      <td>PO DOGOVORU</td>\n",
       "      <td>PO DOGOVORU</td>\n",
       "      <td>NaN</td>\n",
       "    </tr>\n",
       "    <tr>\n",
       "      <th>...</th>\n",
       "      <td>...</td>\n",
       "      <td>...</td>\n",
       "      <td>...</td>\n",
       "      <td>...</td>\n",
       "      <td>...</td>\n",
       "      <td>...</td>\n",
       "    </tr>\n",
       "    <tr>\n",
       "      <th>383980</th>\n",
       "      <td>INVENTURA</td>\n",
       "      <td>CELJE</td>\n",
       "      <td>5.2</td>\n",
       "      <td>TOREK, 8. 11. 2022</td>\n",
       "      <td>DOPOLDAN</td>\n",
       "      <td>20.0</td>\n",
       "    </tr>\n",
       "    <tr>\n",
       "      <th>384967</th>\n",
       "      <td>POMOČ PRI PRODAJI</td>\n",
       "      <td>CELJE</td>\n",
       "      <td>5.2</td>\n",
       "      <td>DLJE ČASA (ZAČ. IN OBČ. DELO)</td>\n",
       "      <td>IZMENSKO</td>\n",
       "      <td>3.0</td>\n",
       "    </tr>\n",
       "    <tr>\n",
       "      <th>384510</th>\n",
       "      <td>ADMINISTRATIVNA DELA</td>\n",
       "      <td>LJUBLJANA</td>\n",
       "      <td>5.2</td>\n",
       "      <td>DLJE ČASA (ZAČ. IN OBČ. DELO)</td>\n",
       "      <td>DOPOLDAN</td>\n",
       "      <td>NaN</td>\n",
       "    </tr>\n",
       "    <tr>\n",
       "      <th>385227</th>\n",
       "      <td>DELO V LOTERIJI</td>\n",
       "      <td>MARIBOR</td>\n",
       "      <td>5.2</td>\n",
       "      <td>DLJE ČASA (ZAČ. IN OBČ. DELO)</td>\n",
       "      <td>PO DOGOVORU</td>\n",
       "      <td>NaN</td>\n",
       "    </tr>\n",
       "    <tr>\n",
       "      <th>384761</th>\n",
       "      <td>DEKLARIRANJE</td>\n",
       "      <td>LJUBLJANA</td>\n",
       "      <td>5.2</td>\n",
       "      <td>PO DOGOVORU</td>\n",
       "      <td>DOPOLDAN</td>\n",
       "      <td>2.0</td>\n",
       "    </tr>\n",
       "  </tbody>\n",
       "</table>\n",
       "<p>3000 rows × 6 columns</p>\n",
       "</div>"
      ],
      "text/plain": [
       "                  vrsta_dela     lokacija  neto_placilo  \\\n",
       "sifra                                                     \n",
       "385238            POUČEVANJE      DOMŽALE          10.1   \n",
       "380941            POUČEVANJE        ŽALEC          10.1   \n",
       "334621            POUČEVANJE  ŠKOFJA LOKA          10.1   \n",
       "378800            POUČEVANJE    LJUBLJANA          10.1   \n",
       "334622            POUČEVANJE  ŠKOFJA LOKA          10.1   \n",
       "...                      ...          ...           ...   \n",
       "383980             INVENTURA        CELJE           5.2   \n",
       "384967     POMOČ PRI PRODAJI        CELJE           5.2   \n",
       "384510  ADMINISTRATIVNA DELA    LJUBLJANA           5.2   \n",
       "385227       DELO V LOTERIJI      MARIBOR           5.2   \n",
       "384761          DEKLARIRANJE    LJUBLJANA           5.2   \n",
       "\n",
       "                             trajanje     delovnik  prosta_mesta  \n",
       "sifra                                                             \n",
       "385238  DLJE ČASA (ZAČ. IN OBČ. DELO)     POPOLDAN           2.0  \n",
       "380941  DLJE ČASA (ZAČ. IN OBČ. DELO)     DOPOLDAN           NaN  \n",
       "334621  DLJE ČASA (ZAČ. IN OBČ. DELO)  PO DOGOVORU           NaN  \n",
       "378800  DLJE ČASA (ZAČ. IN OBČ. DELO)     DOPOLDAN           NaN  \n",
       "334622                   PO DOGOVORU   PO DOGOVORU           NaN  \n",
       "...                               ...          ...           ...  \n",
       "383980             TOREK, 8. 11. 2022     DOPOLDAN          20.0  \n",
       "384967  DLJE ČASA (ZAČ. IN OBČ. DELO)     IZMENSKO           3.0  \n",
       "384510  DLJE ČASA (ZAČ. IN OBČ. DELO)     DOPOLDAN           NaN  \n",
       "385227  DLJE ČASA (ZAČ. IN OBČ. DELO)  PO DOGOVORU           NaN  \n",
       "384761                   PO DOGOVORU      DOPOLDAN           2.0  \n",
       "\n",
       "[3000 rows x 6 columns]"
      ]
     },
     "execution_count": 5,
     "metadata": {},
     "output_type": "execute_result"
    }
   ],
   "source": [
    "padajoce_placilo"
   ]
  },
  {
   "cell_type": "markdown",
   "metadata": {},
   "source": [
    "Katera dela so najbolje plačana?"
   ]
  },
  {
   "cell_type": "code",
   "execution_count": 6,
   "metadata": {},
   "outputs": [
    {
     "data": {
      "text/html": [
       "<div>\n",
       "<style scoped>\n",
       "    .dataframe tbody tr th:only-of-type {\n",
       "        vertical-align: middle;\n",
       "    }\n",
       "\n",
       "    .dataframe tbody tr th {\n",
       "        vertical-align: top;\n",
       "    }\n",
       "\n",
       "    .dataframe thead th {\n",
       "        text-align: right;\n",
       "    }\n",
       "</style>\n",
       "<table border=\"1\" class=\"dataframe\">\n",
       "  <thead>\n",
       "    <tr style=\"text-align: right;\">\n",
       "      <th></th>\n",
       "      <th>vrsta_dela</th>\n",
       "      <th>lokacija</th>\n",
       "      <th>neto_placilo</th>\n",
       "      <th>trajanje</th>\n",
       "      <th>delovnik</th>\n",
       "      <th>prosta_mesta</th>\n",
       "    </tr>\n",
       "    <tr>\n",
       "      <th>sifra</th>\n",
       "      <th></th>\n",
       "      <th></th>\n",
       "      <th></th>\n",
       "      <th></th>\n",
       "      <th></th>\n",
       "      <th></th>\n",
       "    </tr>\n",
       "  </thead>\n",
       "  <tbody>\n",
       "    <tr>\n",
       "      <th>385238</th>\n",
       "      <td>POUČEVANJE</td>\n",
       "      <td>DOMŽALE</td>\n",
       "      <td>10.1</td>\n",
       "      <td>DLJE ČASA (ZAČ. IN OBČ. DELO)</td>\n",
       "      <td>POPOLDAN</td>\n",
       "      <td>2.0</td>\n",
       "    </tr>\n",
       "    <tr>\n",
       "      <th>380941</th>\n",
       "      <td>POUČEVANJE</td>\n",
       "      <td>ŽALEC</td>\n",
       "      <td>10.1</td>\n",
       "      <td>DLJE ČASA (ZAČ. IN OBČ. DELO)</td>\n",
       "      <td>DOPOLDAN</td>\n",
       "      <td>NaN</td>\n",
       "    </tr>\n",
       "    <tr>\n",
       "      <th>334621</th>\n",
       "      <td>POUČEVANJE</td>\n",
       "      <td>ŠKOFJA LOKA</td>\n",
       "      <td>10.1</td>\n",
       "      <td>DLJE ČASA (ZAČ. IN OBČ. DELO)</td>\n",
       "      <td>PO DOGOVORU</td>\n",
       "      <td>NaN</td>\n",
       "    </tr>\n",
       "    <tr>\n",
       "      <th>378800</th>\n",
       "      <td>POUČEVANJE</td>\n",
       "      <td>LJUBLJANA</td>\n",
       "      <td>10.1</td>\n",
       "      <td>DLJE ČASA (ZAČ. IN OBČ. DELO)</td>\n",
       "      <td>DOPOLDAN</td>\n",
       "      <td>NaN</td>\n",
       "    </tr>\n",
       "    <tr>\n",
       "      <th>334622</th>\n",
       "      <td>POUČEVANJE</td>\n",
       "      <td>ŠKOFJA LOKA</td>\n",
       "      <td>10.1</td>\n",
       "      <td>PO DOGOVORU</td>\n",
       "      <td>PO DOGOVORU</td>\n",
       "      <td>NaN</td>\n",
       "    </tr>\n",
       "    <tr>\n",
       "      <th>379678</th>\n",
       "      <td>TRENER/KA</td>\n",
       "      <td>LJUBLJANA - DRAVLJE</td>\n",
       "      <td>10.1</td>\n",
       "      <td>PO DOGOVORU</td>\n",
       "      <td>POPOLDAN</td>\n",
       "      <td>2.0</td>\n",
       "    </tr>\n",
       "    <tr>\n",
       "      <th>381773</th>\n",
       "      <td>POUČEVANJE</td>\n",
       "      <td>KRANJ</td>\n",
       "      <td>10.1</td>\n",
       "      <td>DLJE ČASA (ZAČ. IN OBČ. DELO)</td>\n",
       "      <td>PO DOGOVORU</td>\n",
       "      <td>NaN</td>\n",
       "    </tr>\n",
       "    <tr>\n",
       "      <th>362422</th>\n",
       "      <td>PROGRAMIRANJE</td>\n",
       "      <td>LJUBLJANA</td>\n",
       "      <td>10.0</td>\n",
       "      <td>PO DOGOVORU</td>\n",
       "      <td>PO DOGOVORU</td>\n",
       "      <td>2.0</td>\n",
       "    </tr>\n",
       "  </tbody>\n",
       "</table>\n",
       "</div>"
      ],
      "text/plain": [
       "           vrsta_dela             lokacija  neto_placilo  \\\n",
       "sifra                                                      \n",
       "385238     POUČEVANJE              DOMŽALE          10.1   \n",
       "380941     POUČEVANJE                ŽALEC          10.1   \n",
       "334621     POUČEVANJE          ŠKOFJA LOKA          10.1   \n",
       "378800     POUČEVANJE            LJUBLJANA          10.1   \n",
       "334622     POUČEVANJE          ŠKOFJA LOKA          10.1   \n",
       "379678      TRENER/KA  LJUBLJANA - DRAVLJE          10.1   \n",
       "381773     POUČEVANJE                KRANJ          10.1   \n",
       "362422  PROGRAMIRANJE            LJUBLJANA          10.0   \n",
       "\n",
       "                             trajanje     delovnik  prosta_mesta  \n",
       "sifra                                                             \n",
       "385238  DLJE ČASA (ZAČ. IN OBČ. DELO)     POPOLDAN           2.0  \n",
       "380941  DLJE ČASA (ZAČ. IN OBČ. DELO)     DOPOLDAN           NaN  \n",
       "334621  DLJE ČASA (ZAČ. IN OBČ. DELO)  PO DOGOVORU           NaN  \n",
       "378800  DLJE ČASA (ZAČ. IN OBČ. DELO)     DOPOLDAN           NaN  \n",
       "334622                   PO DOGOVORU   PO DOGOVORU           NaN  \n",
       "379678                    PO DOGOVORU     POPOLDAN           2.0  \n",
       "381773  DLJE ČASA (ZAČ. IN OBČ. DELO)  PO DOGOVORU           NaN  \n",
       "362422                    PO DOGOVORU  PO DOGOVORU           2.0  "
      ]
     },
     "execution_count": 6,
     "metadata": {},
     "output_type": "execute_result"
    }
   ],
   "source": [
    "padajoce_placilo.head(8)"
   ]
  },
  {
   "cell_type": "markdown",
   "metadata": {},
   "source": [
    "Opazimo, da se med najbolje plačanimi deli največkrat pojavi poučevanje."
   ]
  },
  {
   "cell_type": "markdown",
   "metadata": {},
   "source": [
    "Poglejmo, ali je število ponudb za delo povezano z urno postavko."
   ]
  },
  {
   "cell_type": "code",
   "execution_count": 7,
   "metadata": {},
   "outputs": [
    {
     "data": {
      "text/plain": [
       "<AxesSubplot: xlabel='neto_placilo'>"
      ]
     },
     "execution_count": 7,
     "metadata": {},
     "output_type": "execute_result"
    },
    {
     "data": {
      "image/png": "[encoded data removed]",
      "text/plain": [
       "<Figure size 640x480 with 1 Axes>"
      ]
     },
     "metadata": {},
     "output_type": "display_data"
    }
   ],
   "source": [
    "oglasi.groupby(\"neto_placilo\").size().plot()"
   ]
  },
  {
   "cell_type": "markdown",
   "metadata": {},
   "source": [
    "Vidimo, da največ oglasov ponuja neto urno postavko med 6 €/uro in 7 €/uro. Z višjo urno postavko število oglasov praviloma pada (više je le na okroglih vrednostih).\n",
    "Vendar oglasi ponujajo različno število prostih mest, zato preverimo, če enako velja tudi za skupno število prostih mest pri vsaki urni postavki, torej da je tudi število prostih mest med 6 €/uro in 7 €/uro največje, potem pa začne padati."
   ]
  },
  {
   "cell_type": "code",
   "execution_count": 8,
   "metadata": {},
   "outputs": [
    {
     "data": {
      "text/plain": [
       "<AxesSubplot: xlabel='neto_placilo'>"
      ]
     },
     "execution_count": 8,
     "metadata": {},
     "output_type": "execute_result"
    },
    {
     "data": {
      "image/png": "[encoded data removed]",
      "text/plain": [
       "<Figure size 640x480 with 1 Axes>"
      ]
     },
     "metadata": {},
     "output_type": "display_data"
    }
   ],
   "source": [
    "oglasi.groupby(\"neto_placilo\").prosta_mesta.sum().plot()"
   ]
  },
  {
   "cell_type": "markdown",
   "metadata": {},
   "source": [
    "Iz grafa je razvidno, da sklep velja tudi za število prostih mest."
   ]
  },
  {
   "cell_type": "code",
   "execution_count": 9,
   "metadata": {},
   "outputs": [
    {
     "data": {
      "text/html": [
       "<div>\n",
       "<style scoped>\n",
       "    .dataframe tbody tr th:only-of-type {\n",
       "        vertical-align: middle;\n",
       "    }\n",
       "\n",
       "    .dataframe tbody tr th {\n",
       "        vertical-align: top;\n",
       "    }\n",
       "\n",
       "    .dataframe thead th {\n",
       "        text-align: right;\n",
       "    }\n",
       "</style>\n",
       "<table border=\"1\" class=\"dataframe\">\n",
       "  <thead>\n",
       "    <tr style=\"text-align: right;\">\n",
       "      <th></th>\n",
       "      <th>vrsta_dela</th>\n",
       "      <th>lokacija</th>\n",
       "      <th>neto_placilo</th>\n",
       "      <th>trajanje</th>\n",
       "      <th>delovnik</th>\n",
       "      <th>prosta_mesta</th>\n",
       "      <th>zaokrozene_urne_postavke</th>\n",
       "    </tr>\n",
       "    <tr>\n",
       "      <th>sifra</th>\n",
       "      <th></th>\n",
       "      <th></th>\n",
       "      <th></th>\n",
       "      <th></th>\n",
       "      <th></th>\n",
       "      <th></th>\n",
       "      <th></th>\n",
       "    </tr>\n",
       "  </thead>\n",
       "  <tbody>\n",
       "    <tr>\n",
       "      <th>288776</th>\n",
       "      <td>TRENER/KA</td>\n",
       "      <td>HRUŠICA</td>\n",
       "      <td>8.4</td>\n",
       "      <td>DLJE ČASA (OBČASNO)</td>\n",
       "      <td>PO DOGOVORU</td>\n",
       "      <td>NaN</td>\n",
       "      <td>8.0</td>\n",
       "    </tr>\n",
       "    <tr>\n",
       "      <th>304105</th>\n",
       "      <td>DELO NA TERENU</td>\n",
       "      <td>POSAVJE</td>\n",
       "      <td>6.0</td>\n",
       "      <td>PO DOGOVORU</td>\n",
       "      <td>PO DOGOVORU</td>\n",
       "      <td>NaN</td>\n",
       "      <td>6.0</td>\n",
       "    </tr>\n",
       "    <tr>\n",
       "      <th>309918</th>\n",
       "      <td>DELO NA TERENU</td>\n",
       "      <td>RIBNICA, KOČEVJE</td>\n",
       "      <td>6.0</td>\n",
       "      <td>PO DOGOVORU</td>\n",
       "      <td>PO DOGOVORU</td>\n",
       "      <td>NaN</td>\n",
       "      <td>6.0</td>\n",
       "    </tr>\n",
       "    <tr>\n",
       "      <th>309919</th>\n",
       "      <td>DELO NA TERENU</td>\n",
       "      <td>ČRNOMELJ, METLIKA</td>\n",
       "      <td>6.0</td>\n",
       "      <td>PO DOGOVORU</td>\n",
       "      <td>PO DOGOVORU</td>\n",
       "      <td>NaN</td>\n",
       "      <td>6.0</td>\n",
       "    </tr>\n",
       "    <tr>\n",
       "      <th>317382</th>\n",
       "      <td>STREŽBA</td>\n",
       "      <td>CERKLJE NA GORENJSKEM</td>\n",
       "      <td>7.0</td>\n",
       "      <td>DLJE ČASA (ZAČ. IN OBČ. DELO)</td>\n",
       "      <td>MED VIKENDI</td>\n",
       "      <td>2.0</td>\n",
       "      <td>7.0</td>\n",
       "    </tr>\n",
       "    <tr>\n",
       "      <th>...</th>\n",
       "      <td>...</td>\n",
       "      <td>...</td>\n",
       "      <td>...</td>\n",
       "      <td>...</td>\n",
       "      <td>...</td>\n",
       "      <td>...</td>\n",
       "      <td>...</td>\n",
       "    </tr>\n",
       "    <tr>\n",
       "      <th>385366</th>\n",
       "      <td>POMOČ V KUHINJI</td>\n",
       "      <td>SORICA</td>\n",
       "      <td>7.0</td>\n",
       "      <td>PO DOGOVORU</td>\n",
       "      <td>PO DOGOVORU</td>\n",
       "      <td>NaN</td>\n",
       "      <td>7.0</td>\n",
       "    </tr>\n",
       "    <tr>\n",
       "      <th>385367</th>\n",
       "      <td>KLICNI CENTER</td>\n",
       "      <td>LJUBLJANA  ŠIŠKA</td>\n",
       "      <td>6.7</td>\n",
       "      <td>DLJE ČASA (ZAČ. IN OBČ. DELO)</td>\n",
       "      <td>IZMENSKO</td>\n",
       "      <td>2.0</td>\n",
       "      <td>7.0</td>\n",
       "    </tr>\n",
       "    <tr>\n",
       "      <th>385371</th>\n",
       "      <td>POMOČ PRI PRODAJI</td>\n",
       "      <td>LJUBLJANA - BTC</td>\n",
       "      <td>6.0</td>\n",
       "      <td>DLJE ČASA (ZAČ. IN OBČ. DELO)</td>\n",
       "      <td>IZMENSKO</td>\n",
       "      <td>NaN</td>\n",
       "      <td>6.0</td>\n",
       "    </tr>\n",
       "    <tr>\n",
       "      <th>385372</th>\n",
       "      <td>DELO V DELAVNICI</td>\n",
       "      <td>JAKOBSKI DOL</td>\n",
       "      <td>7.0</td>\n",
       "      <td>PO DOGOVORU</td>\n",
       "      <td>DOPOLDAN</td>\n",
       "      <td>NaN</td>\n",
       "      <td>7.0</td>\n",
       "    </tr>\n",
       "    <tr>\n",
       "      <th>385373</th>\n",
       "      <td>BLAGAJNIK</td>\n",
       "      <td>CELJE</td>\n",
       "      <td>5.7</td>\n",
       "      <td>DLJE ČASA (ZAČ. IN OBČ. DELO)</td>\n",
       "      <td>IZMENSKO</td>\n",
       "      <td>5.0</td>\n",
       "      <td>6.0</td>\n",
       "    </tr>\n",
       "  </tbody>\n",
       "</table>\n",
       "<p>3000 rows × 7 columns</p>\n",
       "</div>"
      ],
      "text/plain": [
       "               vrsta_dela               lokacija  neto_placilo  \\\n",
       "sifra                                                            \n",
       "288776          TRENER/KA                HRUŠICA           8.4   \n",
       "304105     DELO NA TERENU                POSAVJE           6.0   \n",
       "309918     DELO NA TERENU       RIBNICA, KOČEVJE           6.0   \n",
       "309919     DELO NA TERENU      ČRNOMELJ, METLIKA           6.0   \n",
       "317382            STREŽBA  CERKLJE NA GORENJSKEM           7.0   \n",
       "...                   ...                    ...           ...   \n",
       "385366    POMOČ V KUHINJI                 SORICA           7.0   \n",
       "385367      KLICNI CENTER       LJUBLJANA  ŠIŠKA           6.7   \n",
       "385371  POMOČ PRI PRODAJI        LJUBLJANA - BTC           6.0   \n",
       "385372   DELO V DELAVNICI           JAKOBSKI DOL           7.0   \n",
       "385373          BLAGAJNIK                  CELJE           5.7   \n",
       "\n",
       "                             trajanje     delovnik  prosta_mesta  \\\n",
       "sifra                                                              \n",
       "288776            DLJE ČASA (OBČASNO)  PO DOGOVORU           NaN   \n",
       "304105                    PO DOGOVORU  PO DOGOVORU           NaN   \n",
       "309918                    PO DOGOVORU  PO DOGOVORU           NaN   \n",
       "309919                    PO DOGOVORU  PO DOGOVORU           NaN   \n",
       "317382  DLJE ČASA (ZAČ. IN OBČ. DELO)  MED VIKENDI           2.0   \n",
       "...                               ...          ...           ...   \n",
       "385366                    PO DOGOVORU  PO DOGOVORU           NaN   \n",
       "385367  DLJE ČASA (ZAČ. IN OBČ. DELO)     IZMENSKO           2.0   \n",
       "385371  DLJE ČASA (ZAČ. IN OBČ. DELO)     IZMENSKO           NaN   \n",
       "385372                    PO DOGOVORU     DOPOLDAN           NaN   \n",
       "385373  DLJE ČASA (ZAČ. IN OBČ. DELO)     IZMENSKO           5.0   \n",
       "\n",
       "        zaokrozene_urne_postavke  \n",
       "sifra                             \n",
       "288776                       8.0  \n",
       "304105                       6.0  \n",
       "309918                       6.0  \n",
       "309919                       6.0  \n",
       "317382                       7.0  \n",
       "...                          ...  \n",
       "385366                       7.0  \n",
       "385367                       7.0  \n",
       "385371                       6.0  \n",
       "385372                       7.0  \n",
       "385373                       6.0  \n",
       "\n",
       "[3000 rows x 7 columns]"
      ]
     },
     "execution_count": 9,
     "metadata": {},
     "output_type": "execute_result"
    }
   ],
   "source": [
    "zaokrozene_urne_postavke = oglasi[\"neto_placilo\"].round()\n",
    "oglasi[\"zaokrozene_urne_postavke\"] = zaokrozene_urne_postavke\n",
    "oglasi"
   ]
  },
  {
   "cell_type": "markdown",
   "metadata": {},
   "source": [
    "Glede na zaokrožene urne postavke poglejmo, kje se, pri čim višji urni postavki, lahko zaposli največ ljudi skupaj."
   ]
  },
  {
   "cell_type": "code",
   "execution_count": 10,
   "metadata": {},
   "outputs": [
    {
     "data": {
      "text/html": [
       "<div>\n",
       "<style scoped>\n",
       "    .dataframe tbody tr th:only-of-type {\n",
       "        vertical-align: middle;\n",
       "    }\n",
       "\n",
       "    .dataframe tbody tr th {\n",
       "        vertical-align: top;\n",
       "    }\n",
       "\n",
       "    .dataframe thead th {\n",
       "        text-align: right;\n",
       "    }\n",
       "</style>\n",
       "<table border=\"1\" class=\"dataframe\">\n",
       "  <thead>\n",
       "    <tr style=\"text-align: right;\">\n",
       "      <th></th>\n",
       "      <th>vrsta_dela</th>\n",
       "      <th>lokacija</th>\n",
       "      <th>neto_placilo</th>\n",
       "      <th>trajanje</th>\n",
       "      <th>delovnik</th>\n",
       "      <th>prosta_mesta</th>\n",
       "      <th>zaokrozene_urne_postavke</th>\n",
       "    </tr>\n",
       "    <tr>\n",
       "      <th>sifra</th>\n",
       "      <th></th>\n",
       "      <th></th>\n",
       "      <th></th>\n",
       "      <th></th>\n",
       "      <th></th>\n",
       "      <th></th>\n",
       "      <th></th>\n",
       "    </tr>\n",
       "  </thead>\n",
       "  <tbody>\n",
       "    <tr>\n",
       "      <th>344663</th>\n",
       "      <td>POUČEVANJE</td>\n",
       "      <td>LJUBLJANA - IN DRUGI KRAJI PO SLOVENIJI</td>\n",
       "      <td>9.7</td>\n",
       "      <td>PO DOGOVORU</td>\n",
       "      <td>PO DOGOVORU</td>\n",
       "      <td>10.0</td>\n",
       "      <td>10.0</td>\n",
       "    </tr>\n",
       "    <tr>\n",
       "      <th>385076</th>\n",
       "      <td>FIZIČNA DELA</td>\n",
       "      <td>NOVO MESTO</td>\n",
       "      <td>9.5</td>\n",
       "      <td>7. -11. 11. 2022</td>\n",
       "      <td>DOPOLDAN</td>\n",
       "      <td>6.0</td>\n",
       "      <td>10.0</td>\n",
       "    </tr>\n",
       "    <tr>\n",
       "      <th>379485</th>\n",
       "      <td>STREŽBA</td>\n",
       "      <td>SEŽANA</td>\n",
       "      <td>10.0</td>\n",
       "      <td>DLJE ČASA (ZAČ. IN OBČ. DELO), PO DOGOVORU</td>\n",
       "      <td>MED VIKENDI</td>\n",
       "      <td>5.0</td>\n",
       "      <td>10.0</td>\n",
       "    </tr>\n",
       "    <tr>\n",
       "      <th>383386</th>\n",
       "      <td>SVETOVALEC/KA</td>\n",
       "      <td>LJUBLJANA</td>\n",
       "      <td>10.0</td>\n",
       "      <td>DLJE ČASA (ZAČ. IN OBČ. DELO)</td>\n",
       "      <td>PO DOGOVORU</td>\n",
       "      <td>4.0</td>\n",
       "      <td>10.0</td>\n",
       "    </tr>\n",
       "    <tr>\n",
       "      <th>385118</th>\n",
       "      <td>SVETOVALEC/KA</td>\n",
       "      <td>LJUBLJANA IN PO SLOVENIJI</td>\n",
       "      <td>10.0</td>\n",
       "      <td>DLJE ČASA (ZAČ. IN OBČ. DELO)</td>\n",
       "      <td>PO DOGOVORU</td>\n",
       "      <td>4.0</td>\n",
       "      <td>10.0</td>\n",
       "    </tr>\n",
       "    <tr>\n",
       "      <th>360215</th>\n",
       "      <td>UČITELJ/ICA PLAVANJA</td>\n",
       "      <td>LJUBLJANA</td>\n",
       "      <td>10.0</td>\n",
       "      <td>DLJE ČASA (OBČASNO)</td>\n",
       "      <td>PO DOGOVORU</td>\n",
       "      <td>3.0</td>\n",
       "      <td>10.0</td>\n",
       "    </tr>\n",
       "    <tr>\n",
       "      <th>379834</th>\n",
       "      <td>STREŽBA HRANE IN PIJAČE</td>\n",
       "      <td>LJUBLJANA</td>\n",
       "      <td>10.0</td>\n",
       "      <td>DLJE ČASA (ZAČ. IN OBČ. DELO)</td>\n",
       "      <td>PO DOGOVORU</td>\n",
       "      <td>3.0</td>\n",
       "      <td>10.0</td>\n",
       "    </tr>\n",
       "    <tr>\n",
       "      <th>382244</th>\n",
       "      <td>TRENER/KA</td>\n",
       "      <td>LJUBLJANA</td>\n",
       "      <td>10.0</td>\n",
       "      <td>DLJE ČASA (ZAČ. IN OBČ. DELO)</td>\n",
       "      <td>POPOLDAN</td>\n",
       "      <td>3.0</td>\n",
       "      <td>10.0</td>\n",
       "    </tr>\n",
       "    <tr>\n",
       "      <th>384587</th>\n",
       "      <td>POUČEVANJE</td>\n",
       "      <td>LJUBLJANA</td>\n",
       "      <td>10.0</td>\n",
       "      <td>DLJE ČASA (ZAČ. IN OBČ. DELO)</td>\n",
       "      <td>PO DOGOVORU</td>\n",
       "      <td>3.0</td>\n",
       "      <td>10.0</td>\n",
       "    </tr>\n",
       "    <tr>\n",
       "      <th>385313</th>\n",
       "      <td>SELITVE</td>\n",
       "      <td>LJUBLJANA</td>\n",
       "      <td>10.0</td>\n",
       "      <td>3. IN 4. 11. 2022</td>\n",
       "      <td>DOPOLDAN</td>\n",
       "      <td>3.0</td>\n",
       "      <td>10.0</td>\n",
       "    </tr>\n",
       "  </tbody>\n",
       "</table>\n",
       "</div>"
      ],
      "text/plain": [
       "                     vrsta_dela                                 lokacija  \\\n",
       "sifra                                                                      \n",
       "344663               POUČEVANJE  LJUBLJANA - IN DRUGI KRAJI PO SLOVENIJI   \n",
       "385076             FIZIČNA DELA                               NOVO MESTO   \n",
       "379485                  STREŽBA                                   SEŽANA   \n",
       "383386            SVETOVALEC/KA                                LJUBLJANA   \n",
       "385118            SVETOVALEC/KA                LJUBLJANA IN PO SLOVENIJI   \n",
       "360215     UČITELJ/ICA PLAVANJA                                LJUBLJANA   \n",
       "379834  STREŽBA HRANE IN PIJAČE                                LJUBLJANA   \n",
       "382244                TRENER/KA                                LJUBLJANA   \n",
       "384587               POUČEVANJE                                LJUBLJANA   \n",
       "385313                  SELITVE                                LJUBLJANA   \n",
       "\n",
       "        neto_placilo                                    trajanje     delovnik  \\\n",
       "sifra                                                                           \n",
       "344663           9.7                                 PO DOGOVORU  PO DOGOVORU   \n",
       "385076           9.5                            7. -11. 11. 2022     DOPOLDAN   \n",
       "379485          10.0  DLJE ČASA (ZAČ. IN OBČ. DELO), PO DOGOVORU  MED VIKENDI   \n",
       "383386          10.0               DLJE ČASA (ZAČ. IN OBČ. DELO)  PO DOGOVORU   \n",
       "385118          10.0               DLJE ČASA (ZAČ. IN OBČ. DELO)  PO DOGOVORU   \n",
       "360215          10.0                         DLJE ČASA (OBČASNO)  PO DOGOVORU   \n",
       "379834          10.0               DLJE ČASA (ZAČ. IN OBČ. DELO)  PO DOGOVORU   \n",
       "382244          10.0               DLJE ČASA (ZAČ. IN OBČ. DELO)     POPOLDAN   \n",
       "384587          10.0               DLJE ČASA (ZAČ. IN OBČ. DELO)  PO DOGOVORU   \n",
       "385313          10.0                           3. IN 4. 11. 2022     DOPOLDAN   \n",
       "\n",
       "        prosta_mesta  zaokrozene_urne_postavke  \n",
       "sifra                                           \n",
       "344663          10.0                      10.0  \n",
       "385076           6.0                      10.0  \n",
       "379485           5.0                      10.0  \n",
       "383386           4.0                      10.0  \n",
       "385118           4.0                      10.0  \n",
       "360215           3.0                      10.0  \n",
       "379834           3.0                      10.0  \n",
       "382244           3.0                      10.0  \n",
       "384587           3.0                      10.0  \n",
       "385313           3.0                      10.0  "
      ]
     },
     "execution_count": 10,
     "metadata": {},
     "output_type": "execute_result"
    }
   ],
   "source": [
    "oglasi.sort_values(by=['zaokrozene_urne_postavke', 'prosta_mesta'], ascending=[False, False]).head(10)"
   ]
  },
  {
   "cell_type": "markdown",
   "metadata": {},
   "source": [
    "## Delovnik"
   ]
  },
  {
   "cell_type": "code",
   "execution_count": 11,
   "metadata": {},
   "outputs": [
    {
     "data": {
      "text/plain": [
       "<AxesSubplot: xlabel='delovnik'>"
      ]
     },
     "execution_count": 11,
     "metadata": {},
     "output_type": "execute_result"
    },
    {
     "data": {
      "image/png": "[encoded data removed]",
      "text/plain": [
       "<Figure size 640x480 with 1 Axes>"
      ]
     },
     "metadata": {},
     "output_type": "display_data"
    }
   ],
   "source": [
    "oglasi.groupby(\"delovnik\").size().plot.bar()"
   ]
  },
  {
   "cell_type": "markdown",
   "metadata": {},
   "source": [
    "Iz grafa je razvidno, da so dela, ki potekajo samo med vikendi, najmanj iskana, za največ del pa se za delovni čas dogovoriš z delodajalcem."
   ]
  },
  {
   "cell_type": "markdown",
   "metadata": {},
   "source": [
    "Kakšen delavnik imajo dela, katerih urna postavka je več kot 8 €/uro?"
   ]
  },
  {
   "cell_type": "code",
   "execution_count": 12,
   "metadata": {},
   "outputs": [
    {
     "data": {
      "text/plain": [
       "<AxesSubplot: xlabel='delovnik'>"
      ]
     },
     "execution_count": 12,
     "metadata": {},
     "output_type": "execute_result"
    },
    {
     "data": {
      "image/png": "[encoded data removed]",
      "text/plain": [
       "<Figure size 640x480 with 1 Axes>"
      ]
     },
     "metadata": {},
     "output_type": "display_data"
    }
   ],
   "source": [
    "novi_oglasi = oglasi[oglasi[\"prosta_mesta\"].notna()]\n",
    "\n",
    "novi_oglasi[novi_oglasi.neto_placilo > 8]\n",
    "\n",
    "novi_oglasi.groupby(\"delovnik\").size().plot.bar()"
   ]
  },
  {
   "cell_type": "markdown",
   "metadata": {},
   "source": [
    "Če primerjamo z grafom vseh del vidimo, da je manj ponudb za delo dopoldan, ostalo pa ostaja sorazmerno enako, kar je bilo pričakovano."
   ]
  },
  {
   "cell_type": "markdown",
   "metadata": {},
   "source": [
    "## Lokacija"
   ]
  },
  {
   "cell_type": "code",
   "execution_count": 13,
   "metadata": {},
   "outputs": [
    {
     "data": {
      "text/plain": [
       "<AxesSubplot: >"
      ]
     },
     "execution_count": 13,
     "metadata": {},
     "output_type": "execute_result"
    },
    {
     "data": {
      "image/png": "[encoded data removed]",
      "text/plain": [
       "<Figure size 640x480 with 1 Axes>"
      ]
     },
     "metadata": {},
     "output_type": "display_data"
    }
   ],
   "source": [
    "oglasi.groupby(\"lokacija\").size().sort_values(ascending=False).head(8).plot.pie()"
   ]
  },
  {
   "cell_type": "markdown",
   "metadata": {},
   "source": [
    "Kot pričakovano, je največ ponudb za delo v največjih krajih v Sloveniji - Ljubljani, Mariboru, Celju in Kranju."
   ]
  },
  {
   "cell_type": "markdown",
   "metadata": {},
   "source": [
    "Ali obstaja odvisnost urne postavke od lokacije dela?"
   ]
  },
  {
   "cell_type": "code",
   "execution_count": 14,
   "metadata": {},
   "outputs": [
    {
     "data": {
      "text/plain": [
       "lokacija\n",
       "LJUBLJANA - DRAVLJE                        10.1\n",
       "PTUJ, OD DOMA                              10.0\n",
       "TURNIŠČE, LENDAVA                          10.0\n",
       "KRANJ, DELO OD DOMA                        10.0\n",
       "RIBNICA, SODRAŽICA                         10.0\n",
       "DELO OD DOMA ALI V LJUBLJANI               10.0\n",
       "TABOR, VELIKA PIREŠICA, ŠENTRUPERT         10.0\n",
       "JEZERSKO                                   10.0\n",
       "LJUBLJANA - IN DRUGI KRAJI PO SLOVENIJI     9.7\n",
       "OD DOMA / LJUBLJANA ČRNUČE                  9.5\n",
       "OD DOMA                                     9.3\n",
       "LJUBLJANA Z OKOLICO OZ. PO SLOVENIJI        9.2\n",
       "LJUBLJANA OD DOMA                           9.2\n",
       "BOVEC                                       9.0\n",
       "CELJE, VELENJE                              9.0\n",
       "Name: neto_placilo, dtype: float64"
      ]
     },
     "execution_count": 14,
     "metadata": {},
     "output_type": "execute_result"
    }
   ],
   "source": [
    "oglasi.groupby(\"lokacija\").neto_placilo.mean().sort_values(ascending=False).head(15)"
   ]
  },
  {
   "cell_type": "code",
   "execution_count": 15,
   "metadata": {},
   "outputs": [
    {
     "data": {
      "text/plain": [
       "lokacija\n",
       "SLOVENJSKE KONJICE            5.2\n",
       "RADOMLJE, VOLČJI POTOK        5.2\n",
       "SLIVNICA VZHOD                5.2\n",
       "CERKVENJAK                    5.2\n",
       "MIKLAVŽ                       5.2\n",
       "KOPER / DELO OD DOMA          5.2\n",
       "MEŽICA                        5.2\n",
       "KOTREDEŽ                      5.2\n",
       "KRANJ - LABORE                5.2\n",
       "ŠKOFJA LOKA / DELO OD DOMA    5.2\n",
       "LESKOVEC PRI KRŠKEM           5.2\n",
       "GRADAC                        5.2\n",
       "DEBELI RTIČ                   5.2\n",
       "LJUBLJANA-RUDNIK              5.2\n",
       "ZAGORJE OB SAVI, IZLAKE       5.2\n",
       "Name: neto_placilo, dtype: float64"
      ]
     },
     "execution_count": 15,
     "metadata": {},
     "output_type": "execute_result"
    }
   ],
   "source": [
    "oglasi.groupby(\"lokacija\").neto_placilo.mean().sort_values(ascending=False).tail(15)"
   ]
  },
  {
   "cell_type": "markdown",
   "metadata": {},
   "source": [
    "Ker se tako pri najvišjih kot pri najnižjih urnih postavkah pojavljajo različni kraji, sklepamo, da urna postavka in lokacija dela nista povezani."
   ]
  }
 ],
 "metadata": {
  "kernelspec": {
   "display_name": "Python 3",
   "language": "python",
   "name": "python3"
  },
  "language_info": {
   "codemirror_mode": {
    "name": "ipython",
    "version": 3
   },
   "file_extension": ".py",
   "mimetype": "text/x-python",
   "name": "python",
   "nbconvert_exporter": "python",
   "pygments_lexer": "ipython3",
   "version": "3.10.2"
  },
  "orig_nbformat": 4
 },
 "nbformat": 4,
 "nbformat_minor": 2
}
